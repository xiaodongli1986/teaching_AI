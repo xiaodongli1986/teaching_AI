{
 "cells": [
  {
   "cell_type": "code",
   "execution_count": 2,
   "metadata": {},
   "outputs": [
    {
     "name": "stdout",
     "output_type": "stream",
     "text": [
      "Populating the interactive namespace from numpy and matplotlib\n"
     ]
    }
   ],
   "source": [
    "%pylab inline\n",
    "import pandas as pd\n",
    "s = pd.Series(np.random.uniform(0,1,100))"
   ]
  },
  {
   "cell_type": "code",
   "execution_count": 3,
   "metadata": {},
   "outputs": [
    {
     "data": {
      "text/plain": [
       "0     0.758807\n",
       "1     0.470691\n",
       "2     0.530455\n",
       "3     0.376188\n",
       "4     0.912360\n",
       "5     0.406877\n",
       "6     0.127732\n",
       "7     0.891046\n",
       "8     0.811620\n",
       "9     0.692985\n",
       "10    0.305641\n",
       "11    0.546021\n",
       "12    0.813443\n",
       "13    0.292401\n",
       "14    0.648817\n",
       "15    0.343558\n",
       "16    0.036899\n",
       "17    0.850142\n",
       "18    0.435032\n",
       "19    0.722067\n",
       "20    0.451804\n",
       "21    0.619563\n",
       "22    0.125455\n",
       "23    0.534142\n",
       "24    0.246985\n",
       "25    0.269915\n",
       "26    0.352056\n",
       "27    0.564882\n",
       "28    0.810127\n",
       "29    0.818443\n",
       "        ...   \n",
       "70    0.470554\n",
       "71    0.997764\n",
       "72    0.452310\n",
       "73    0.940925\n",
       "74    0.978804\n",
       "75    0.435864\n",
       "76    0.492400\n",
       "77    0.209734\n",
       "78    0.154941\n",
       "79    0.670197\n",
       "80    0.035586\n",
       "81    0.794717\n",
       "82    0.304669\n",
       "83    0.805388\n",
       "84    0.170339\n",
       "85    0.725851\n",
       "86    0.273389\n",
       "87    0.794960\n",
       "88    0.596293\n",
       "89    0.193089\n",
       "90    0.041076\n",
       "91    0.670557\n",
       "92    0.309243\n",
       "93    0.721065\n",
       "94    0.662653\n",
       "95    0.016894\n",
       "96    0.027077\n",
       "97    0.539703\n",
       "98    0.617716\n",
       "99    0.248003\n",
       "Length: 100, dtype: float64"
      ]
     },
     "execution_count": 3,
     "metadata": {},
     "output_type": "execute_result"
    }
   ],
   "source": [
    "s"
   ]
  }
 ],
 "metadata": {
  "kernelspec": {
   "display_name": "Python 3",
   "language": "python",
   "name": "python3"
  },
  "language_info": {
   "codemirror_mode": {
    "name": "ipython",
    "version": 3
   },
   "file_extension": ".py",
   "mimetype": "text/x-python",
   "name": "python",
   "nbconvert_exporter": "python",
   "pygments_lexer": "ipython3",
   "version": "3.7.1"
  }
 },
 "nbformat": 4,
 "nbformat_minor": 2
}
